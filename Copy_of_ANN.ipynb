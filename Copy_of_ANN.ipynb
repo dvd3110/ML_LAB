{
  "nbformat": 4,
  "nbformat_minor": 0,
  "metadata": {
    "colab": {
      "provenance": [],
      "include_colab_link": true
    },
    "kernelspec": {
      "name": "python3",
      "display_name": "Python 3"
    },
    "language_info": {
      "name": "python"
    }
  },
  "cells": [
    {
      "cell_type": "markdown",
      "metadata": {
        "id": "view-in-github",
        "colab_type": "text"
      },
      "source": [
        "<a href=\"https://colab.research.google.com/github/dvd3110/ML_LAB_1BM22CS406/blob/main/Copy_of_ANN.ipynb\" target=\"_parent\"><img src=\"https://colab.research.google.com/assets/colab-badge.svg\" alt=\"Open In Colab\"/></a>"
      ]
    },
    {
      "cell_type": "code",
      "execution_count": null,
      "metadata": {
        "id": "RJtNA9TJuPkA"
      },
      "outputs": [],
      "source": [
        "import numpy as np\n",
        "x = np.array(([2,9],[1,5],[3,6]),dtype = float)\n",
        "y = np.array(([92],[86],[89]),dtype = float)\n",
        "\n",
        "x = x/np.amax(x,axis=0)\n",
        "y = y/100"
      ]
    },
    {
      "cell_type": "code",
      "source": [
        "#Varialble Initialization\n",
        "epoch = 5000\n",
        "lr = 0.1\n",
        "inputlayer_neurons = 2\n",
        "hiddenlayer_neurons = 3\n",
        "output_neurons = 1\n"
      ],
      "metadata": {
        "id": "mAfaxzZbuyhp"
      },
      "execution_count": null,
      "outputs": []
    },
    {
      "cell_type": "code",
      "source": [
        "# weight and bias Initialization\n",
        "\n",
        "wh = np.random.uniform(size=(inputlayer_neurons,hiddenlayer_neurons))\n",
        "bh = np.random.uniform(size=(1,hiddenlayer_neurons))\n",
        "wout = np.random.uniform(size=(hiddenlayer_neurons,output_neurons))\n",
        "bout = np.random.uniform(size=(1,output_neurons))"
      ],
      "metadata": {
        "id": "u5lGEf6xu-a2"
      },
      "execution_count": null,
      "outputs": []
    },
    {
      "cell_type": "code",
      "source": [
        "#sigmoid function\n",
        "\n",
        "def sigmoid(x):\n",
        "  return 1/(1+np.exp(-x))\n",
        "\n",
        "# Derivative of Sigmoid\n",
        "\n",
        "def der_sigmoid(x):\n",
        "  return x*(1-x)\n",
        "\n"
      ],
      "metadata": {
        "id": "26PsCXyovYBD"
      },
      "execution_count": null,
      "outputs": []
    },
    {
      "cell_type": "code",
      "source": [
        "# Draws a random range of numbers uniformly of dim x*y\n",
        "\n",
        "for i in range(epoch):\n",
        "\n",
        "  # forward propagation\n",
        "  hinp1 = np.dot(x,wh)\n",
        "  hinp = hinp1 + bh\n",
        "  hlayer_act = sigmoid(hinp)\n",
        "  outinp1 = np.dot(hlayer_act,wout)\n",
        "  outinp = outinp1 + bout\n",
        "  output = sigmoid(outinp)\n",
        "\n",
        "  # Backpropagation\n",
        "  EO = y - output\n",
        "  outgrad = der_sigmoid(output)\n",
        "  d_output = EO*outgrad\n",
        "  EH = d_output.dot(wout.T)"
      ],
      "metadata": {
        "id": "5rRRgoW2vj8O"
      },
      "execution_count": null,
      "outputs": []
    },
    {
      "cell_type": "code",
      "source": [
        "# how much hidden layer weights contributed to error\n",
        "\n",
        "hiddengrad = der_sigmoid(hlayer_act)\n",
        "d_hiddenlayer = EH*hiddengrad\n",
        "\n",
        "#dotproduct of nextlayererror and current layer op\n",
        "\n",
        "wout += hlayer_act.T.dot(d_output)*lr\n",
        "wh += x.T.dot(d_hiddenlayer)*lr\n",
        "\n",
        "print(\"Input: \\n\" + str(x))\n",
        "print(\"Actual output: \\n\" + str(y))\n",
        "print(\"Predicted Output: \\n\",output)"
      ],
      "metadata": {
        "colab": {
          "base_uri": "https://localhost:8080/"
        },
        "id": "UOo_D6WPwP66",
        "outputId": "998e314b-a6d8-4061-895b-e1071046144a"
      },
      "execution_count": null,
      "outputs": [
        {
          "output_type": "stream",
          "name": "stdout",
          "text": [
            "Input: \n",
            "[[0.66666667 1.        ]\n",
            " [0.33333333 0.55555556]\n",
            " [1.         0.66666667]]\n",
            "Actual output: \n",
            "[[0.92]\n",
            " [0.86]\n",
            " [0.89]]\n",
            "Predicted Output: \n",
            " [[0.80056875]\n",
            " [0.79393831]\n",
            " [0.80112347]]\n"
          ]
        }
      ]
    }
  ]
}