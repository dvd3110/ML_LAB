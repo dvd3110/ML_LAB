{
  "nbformat": 4,
  "nbformat_minor": 0,
  "metadata": {
    "colab": {
      "provenance": []
    },
    "kernelspec": {
      "name": "python3",
      "display_name": "Python 3"
    },
    "language_info": {
      "name": "python"
    }
  },
  "cells": [
    {
      "cell_type": "code",
      "execution_count": 6,
      "metadata": {
        "colab": {
          "base_uri": "https://localhost:8080/"
        },
        "id": "txc0KeSEoK4i",
        "outputId": "280ac28a-2a2b-46d5-cbb7-e07fa8d3aaa0"
      },
      "outputs": [
        {
          "output_type": "stream",
          "name": "stdout",
          "text": [
            "|--- Outlook <= 5.50\n",
            "|   |--- class: Yes\n",
            "|--- Outlook >  5.50\n",
            "|   |--- Humidity <= 2.50\n",
            "|   |   |--- Outlook <= 7.00\n",
            "|   |   |   |--- Wind <= 8.00\n",
            "|   |   |   |   |--- class: No\n",
            "|   |   |   |--- Wind >  8.00\n",
            "|   |   |   |   |--- class: Yes\n",
            "|   |   |--- Outlook >  7.00\n",
            "|   |   |   |--- class: No\n",
            "|   |--- Humidity >  2.50\n",
            "|   |   |--- Wind <= 8.00\n",
            "|   |   |   |--- Outlook <= 7.00\n",
            "|   |   |   |   |--- class: No\n",
            "|   |   |   |--- Outlook >  7.00\n",
            "|   |   |   |   |--- class: Yes\n",
            "|   |   |--- Wind >  8.00\n",
            "|   |   |   |--- class: Yes\n",
            "\n",
            "The prediction for the new sample is: Yes\n"
          ]
        }
      ],
      "source": [
        "from sklearn import preprocessing\n",
        "from sklearn.tree import DecisionTreeClassifier, export_text\n",
        "import numpy as np\n",
        "\n",
        "# Define the dataset\n",
        "features = np.array([\n",
        "    [\"Sunny\", \"Hot\", \"High\", \"Weak\"],\n",
        "    [\"Sunny\", \"Hot\", \"High\", \"Strong\"],\n",
        "    [\"Overcast\", \"Hot\", \"High\", \"Weak\"],\n",
        "    [\"Rain\", \"Mild\", \"High\", \"Weak\"],\n",
        "    [\"Rain\", \"Cool\", \"Normal\", \"Weak\"],\n",
        "    [\"Rain\", \"Cool\", \"Normal\", \"Strong\"],\n",
        "    [\"Overcast\", \"Cool\", \"Normal\", \"Strong\"],\n",
        "    [\"Sunny\", \"Mild\", \"High\", \"Weak\"],\n",
        "    [\"Sunny\", \"Cool\", \"Normal\", \"Weak\"],\n",
        "    [\"Rain\", \"Mild\", \"Normal\", \"Weak\"],\n",
        "    [\"Sunny\", \"Mild\", \"Normal\", \"Strong\"],\n",
        "    [\"Overcast\", \"Mild\", \"High\", \"Strong\"],\n",
        "    [\"Overcast\", \"Hot\", \"Normal\", \"Weak\"],\n",
        "    [\"Rain\", \"Mild\", \"High\", \"Strong\"]\n",
        "])\n",
        "labels = np.array([\"No\", \"No\", \"Yes\", \"Yes\", \"Yes\", \"No\", \"Yes\", \"No\", \"Yes\", \"Yes\", \"Yes\", \"Yes\", \"Yes\", \"No\"])\n",
        "\n",
        "# Preprocess the features\n",
        "le = preprocessing.LabelEncoder()\n",
        "features = le.fit_transform(np.ravel(features)).reshape(features.shape)\n",
        "\n",
        "# Initialize the DecisionTreeClassifier\n",
        "clf = DecisionTreeClassifier()\n",
        "\n",
        "# Fit the model\n",
        "clf.fit(features, labels)\n",
        "\n",
        "# Print the decision tree\n",
        "print(export_text(clf, feature_names=[\"Outlook\", \"Temperature\", \"Humidity\", \"Wind\"]))\n",
        "\n",
        "# Classify the new sample\n",
        "new_sample = np.array([[\"Sunny\", \"Cool\", \"Normal\", \"Strong\"]])\n",
        "new_sample = le.transform(np.ravel(new_sample)).reshape(new_sample.shape)\n",
        "prediction = clf.predict(new_sample)\n",
        "print(f\"The prediction for the new sample is: {prediction[0]}\")"
      ]
    }
  ]
}